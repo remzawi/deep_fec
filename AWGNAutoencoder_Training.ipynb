{
 "cells": [
  {
   "cell_type": "markdown",
   "metadata": {},
   "source": [
    "Notebook for the one-hot autoencoder"
   ]
  },
  {
   "cell_type": "code",
   "execution_count": 1,
   "metadata": {},
   "outputs": [],
   "source": [
    "from communications import *\n",
    "from model import *\n",
    "import numpy as np\n",
    "import matplotlib.pyplot as plt\n",
    "import os.path\n",
    "\n",
    "%load_ext autoreload\n",
    "%autoreload 2"
   ]
  },
  {
   "cell_type": "code",
   "execution_count": 2,
   "metadata": {},
   "outputs": [],
   "source": [
    "import pickle\n",
    "\n",
    "def save_obj(obj, name ):\n",
    "    with open(name + '.pkl', 'wb') as f:\n",
    "        pickle.dump(obj, f, pickle.HIGHEST_PROTOCOL)\n",
    "\n",
    "def load_obj(name ):\n",
    "    with open(name + '.pkl', 'rb') as f:\n",
    "        return pickle.load(f)"
   ]
  },
  {
   "cell_type": "code",
   "execution_count": 3,
   "metadata": {},
   "outputs": [],
   "source": [
    "X_train,y_train=np.eye(256),np.eye(256)\n",
    "#X_train,y_train=createBitVectors(),createBitVectors()\n",
    "#X_train,y_train=createBitVectors(),2.0*createPolarCodewords()-1\n"
   ]
  },
  {
   "cell_type": "code",
   "execution_count": 4,
   "metadata": {},
   "outputs": [],
   "source": [
    "SNR=3\n",
    "add_name='_ohtest'"
   ]
  },
  {
   "cell_type": "code",
   "execution_count": null,
   "metadata": {},
   "outputs": [],
   "source": [
    "autoencoderAWGN,encoderAWGN,decoderAWGN=OHAutoencoder(5*256,5*256,AWGN,SNR,use_BN=False,use_LN=False)"
   ]
  },
  {
   "cell_type": "code",
   "execution_count": null,
   "metadata": {},
   "outputs": [],
   "source": [
    "boundaries = [2**16,2**17]\n",
    "values = [1e-4,1e-5,1e-6]\n",
    "lr_schedule = tf.keras.optimizers.schedules.PiecewiseConstantDecay(boundaries, values)\n",
    "autoencoderAWGN,encoderAWGN,decoderAWGN=OHAutoencoder2(5*256,5*256,AWGN,SNR,use_BN=True,use_LN=False,lr=1e-4,encoder_activation='tanh',hidden_activation='relu',optim=Adam,lookahead=False,gradient_centralization=False)"
   ]
  },
  {
   "cell_type": "code",
   "execution_count": null,
   "metadata": {},
   "outputs": [],
   "source": [
    "autoencoderAWGN,encoderAWGN,decoderAWGN=OHAutoencoder(5*256,5*256,multi_AWGN,use_BN=False,use_LN=False)"
   ]
  },
  {
   "cell_type": "code",
   "execution_count": null,
   "metadata": {},
   "outputs": [],
   "source": []
  },
  {
   "cell_type": "code",
   "execution_count": null,
   "metadata": {},
   "outputs": [],
   "source": []
  },
  {
   "cell_type": "code",
   "execution_count": null,
   "metadata": {},
   "outputs": [],
   "source": []
  },
  {
   "cell_type": "code",
   "execution_count": 5,
   "metadata": {},
   "outputs": [],
   "source": [
    "def schedule(epoch,lr):\n",
    "    if epoch<2**13:\n",
    "        return 1e-3\n",
    "    if epoch<3*2**16:\n",
    "        return 1e-5\n",
    "    return 1e-6\n",
    "    \n",
    "\n",
    "scheduler=tf.keras.callbacks.LearningRateScheduler(schedule)\n"
   ]
  },
  {
   "cell_type": "code",
   "execution_count": null,
   "metadata": {},
   "outputs": [],
   "source": [
    "from tensorflow.keras.models import load_model\n",
    "#autoencoderAWGN,encoderAWGN,decoderAWGN=Autoencoder('normal','normal',[64,128],[128,64,32],AWGN,SNR,use_BN=True,use_LN=False,lr=1e-3,encoder_activation='tanh',hidden_activation=mish,optim=RectifiedAdam,lookahead=True,gradient_centralization=True)\n",
    "encoderAWGN=load_model('AWGNEncoder_3_relu.h5',custom_objects={'AWGN':AWGN,'normLayer':normLayer})\n",
    "#autoencoderAWGN,encoderAWGN,decoderAWGN=recompileAutoencoder('normal','normal',encoderAWGN,decoderAWGN,AWGN,noise_param=SNR,optim=Adam,lookahead=True,gradient_centralization=True,lr=1e-5)"
   ]
  },
  {
   "cell_type": "code",
   "execution_count": 6,
   "metadata": {},
   "outputs": [],
   "source": [
    "'''Possible additional layers:\n",
    "-normLayer:mean=0 and std=1\n",
    "-pseudoNorm:mean=0 and max value=1\n",
    "-forceNorm: outputs 1 or -1 not differentiable\n",
    "-normLoss: adds mean and values deviations to loss'''\n",
    "\n",
    "autoencoderAWGN,encoderAWGN,decoderAWGN=Autoencoder('onehot','onehot',[1280],[64,1280],AWGN,SNR,use_BN=True,use_LN=False,use_WN=False,\n",
    "                                                    lr=1e-4,encoder_activation='tanh',hidden_activation=mish,\n",
    "                                                    optim=RectifiedAdam,lookahead=True,gradient_centralization=True,\n",
    "                                                    compile_autoencoder=True,compile_encoder=False,compile_decoder=False,\n",
    "                                                    additional_layers=[normLoss])"
   ]
  },
  {
   "cell_type": "code",
   "execution_count": null,
   "metadata": {},
   "outputs": [],
   "source": [
    "checkpoint=tf.keras.callbacks.ModelCheckpoint('AWGNAutoencoderCheckpoint'+add_name+'.h5',monitor='loss',save_best_only=True)\n",
    "history=encoderAWGN.fit(x=X_train,y=y_train,batch_size=256,epochs=2**15,callbacks=[checkpoint,scheduler],verbose=2)\n",
    "save_obj(history.history,'history'+add_name)\n",
    "encoderAWGN.save('AWGNEncoder'+add_name+'.h5')"
   ]
  },
  {
   "cell_type": "code",
   "execution_count": null,
   "metadata": {},
   "outputs": [],
   "source": [
    "print(y_train)"
   ]
  },
  {
   "cell_type": "code",
   "execution_count": null,
   "metadata": {},
   "outputs": [],
   "source": [
    "from tensorflow.keras.models import load_model\n",
    "#autoencoderAWGN,encoderAWGN,decoderAWGN=Autoencoder('normal','normal',[64,128],[128,64,32],AWGN,SNR,use_BN=True,use_LN=False,lr=1e-3,encoder_activation='tanh',hidden_activation=mish,optim=RectifiedAdam,lookahead=True,gradient_centralization=True)\n",
    "encoderAWGN=load_model('AWGNEncoder_3_polarencoder.h5',custom_objects={'AWGN':AWGN,'polar_metric':polar_metric})\n",
    "#autoencoderAWGN,encoderAWGN,decoderAWGN=recompileAutoencoder('normal','normal',encoderAWGN,decoderAWGN,AWGN,noise_param=SNR,optim=Adam,lookahead=True,gradient_centralization=True,lr=1e-5)"
   ]
  },
  {
   "cell_type": "code",
   "execution_count": null,
   "metadata": {},
   "outputs": [
    {
     "name": "stdout",
     "output_type": "stream",
     "text": [
      "WARNING:tensorflow:From /opt/conda/lib/python3.7/site-packages/tensorflow/python/ops/resource_variable_ops.py:1817: calling BaseResourceVariable.__init__ (from tensorflow.python.ops.resource_variable_ops) with constraint is deprecated and will be removed in a future version.\n",
      "Instructions for updating:\n",
      "If using Keras pass *_constraint arguments to layers.\n"
     ]
    }
   ],
   "source": [
    "checkpoint=tf.keras.callbacks.ModelCheckpoint('AWGNAutoencoderCheckpoint'+add_name+'.h5',monitor='loss',save_best_only=True)\n",
    "history=autoencoderAWGN.fit(x=X_train,y=y_train,batch_size=256,epochs=2**18,callbacks=[checkpoint,scheduler],verbose=0)\n",
    "save_obj(history.history,'history'+add_name)\n",
    "autoencoderAWGN.save('AWGNAutoencoder'+add_name+'.h5')\n",
    "encoderAWGN.save('AWGNEncoder'+add_name+'.h5')\n",
    "decoderAWGN.save('AWGNDecoder'+add_name+'.h5')"
   ]
  },
  {
   "cell_type": "code",
   "execution_count": 14,
   "metadata": {},
   "outputs": [
    {
     "name": "stdout",
     "output_type": "stream",
     "text": [
      "[[ 0.9999912  -0.9999937  -0.999998   ...  0.9999657  -0.9999949\n",
      "  -0.99999577]\n",
      " [ 0.9999928   0.999992   -0.999979   ...  0.99999326  0.9999953\n",
      "  -0.99999   ]\n",
      " [ 0.9999888   0.99998707 -0.99999744 ... -0.99999726 -0.99999785\n",
      "   1.        ]\n",
      " ...\n",
      " [ 0.99622923 -0.9996762   0.9999909  ...  1.         -0.9999699\n",
      "  -0.99972016]\n",
      " [ 0.9999928  -0.9999916  -0.9999918  ... -0.99999374 -0.99999607\n",
      "  -0.9999962 ]\n",
      " [-0.9999264   0.99999285  0.9999908  ...  0.99999726 -0.99926764\n",
      "  -0.999947  ]]\n"
     ]
    }
   ],
   "source": [
    "print(encoderAWGN.predict(X_train))"
   ]
  },
  {
   "cell_type": "code",
   "execution_count": null,
   "metadata": {},
   "outputs": [],
   "source": [
    "computeVarianceAWGN(encoderAWGN,do_polar=True,print_code=True,round=False)"
   ]
  },
  {
   "cell_type": "code",
   "execution_count": null,
   "metadata": {},
   "outputs": [],
   "source": [
    "testLinearAWGN(encoderAWGN)"
   ]
  },
  {
   "cell_type": "code",
   "execution_count": null,
   "metadata": {},
   "outputs": [],
   "source": [
    "np.count_non_zero(np.round(encoderAWGN.predict(np.eye(256))))"
   ]
  },
  {
   "cell_type": "code",
   "execution_count": null,
   "metadata": {},
   "outputs": [],
   "source": [
    "print()"
   ]
  }
 ],
 "metadata": {
  "kernelspec": {
   "display_name": "Python 3",
   "language": "python",
   "name": "python3"
  },
  "language_info": {
   "codemirror_mode": {
    "name": "ipython",
    "version": 3
   },
   "file_extension": ".py",
   "mimetype": "text/x-python",
   "name": "python",
   "nbconvert_exporter": "python",
   "pygments_lexer": "ipython3",
   "version": "3.7.6"
  }
 },
 "nbformat": 4,
 "nbformat_minor": 4
}
